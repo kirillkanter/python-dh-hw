{
 "cells": [
  {
   "cell_type": "code",
   "execution_count": 12,
   "metadata": {},
   "outputs": [
    {
     "name": "stdout",
     "output_type": "stream",
     "text": [
      "{'hi': 1, 'ii': 1, 'iw': 1, 'wa': 1, 'an': 1, 'nt': 1, 'tt': 1, 'to': 1, 'om': 2, 'ma': 1, 'ak': 1, 'ke': 1, 'es': 1, 'so': 1, 'me': 1, 'eb': 1, 'bi': 1, 'ig': 1, 'gr': 1, 'ra': 1, 'am': 1, 'ms': 1}\n",
      "Биграмма ii встретилась 1 раз\n",
      "Биграмма tt встретилась 1 раз\n"
     ]
    }
   ],
   "source": [
    "text1=\"hi i want to make some bigrams\"\n",
    "smbls=[]\n",
    "text1=[char for char in text1 if char!=\" \"]\n",
    "text1=\"\".join(text1)\n",
    "for i in range(len(text1)-1):\n",
    "    b=text1[i]+text1[i+1]\n",
    "    smbls.append(b)#(text1[i:i+2])\n",
    "d={}\n",
    "for bigram in smbls:\n",
    "    if bigram in d:\n",
    "        d[bigram]+=1\n",
    "    else:\n",
    "        d[bigram]=1\n",
    "print(d)\n",
    "for k,v in d.items():\n",
    "    if k[0]==k[1]:\n",
    "        print(\"Биграмма %s встретилась %s раз\"%(k,v))"
   ]
  },
  {
   "cell_type": "code",
   "execution_count": null,
   "metadata": {},
   "outputs": [],
   "source": []
  }
 ],
 "metadata": {
  "kernelspec": {
   "display_name": "Python 3",
   "language": "python",
   "name": "python3"
  },
  "language_info": {
   "codemirror_mode": {
    "name": "ipython",
    "version": 3
   },
   "file_extension": ".py",
   "mimetype": "text/x-python",
   "name": "python",
   "nbconvert_exporter": "python",
   "pygments_lexer": "ipython3",
   "version": "3.6.4"
  }
 },
 "nbformat": 4,
 "nbformat_minor": 2
}
