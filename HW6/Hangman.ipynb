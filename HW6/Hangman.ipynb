{
 "cells": [
  {
   "cell_type": "code",
   "execution_count": 4,
   "metadata": {},
   "outputs": [
    {
     "name": "stdout",
     "output_type": "stream",
     "text": [
      "У ВАС ЕСТЬ 5 ПОПЫТОК, ЧТОБЫ ОТГАДАТЬ 6 БУКВ\n",
      "______\n",
      "ВВЕДИТЕ БУКВУ:к\n",
      "ВЫ УГАДАЛИ БУКВУ\n",
      "['к', '_', '_', '_', '_', '_']\n",
      "ВВЕДИТЕ БУКВУ:о\n",
      "ВЫ УГАДАЛИ БУКВУ\n",
      "['к', 'о', '_', '_', '_', 'о']\n",
      "ВВЕДИТЕ БУКВУ:л\n",
      "ВЫ УГАДАЛИ БУКВУ\n",
      "['к', 'о', 'л', '_', '_', 'о']\n",
      "ВВЕДИТЕ БУКВУ:е\n",
      "ВЫ УГАДАЛИ БУКВУ\n",
      "['к', 'о', 'л', 'е', '_', 'о']\n",
      "ВВЕДИТЕ БУКВУ:с\n",
      "ВЫ УГАДАЛИ СЛОВО колесо\n"
     ]
    }
   ],
   "source": [
    "a=[\"колесо\", \"помощь\",\"коробка\", \"собака\",\"синхрофазатрон\"]\n",
    "letters=()\n",
    "import random\n",
    "word=(random.choice(a))\n",
    "wordletters=set(word)\n",
    "letters2=set(letters)\n",
    "n=len(word)\n",
    "gameover=(0)\n",
    "ch=(\"_\"*n)\n",
    "ch1=list(ch)\n",
    "print(\"У ВАС ЕСТЬ 5 ПОПЫТОК, ЧТОБЫ ОТГАДАТЬ\", n,\"БУКВ\")\n",
    "print(ch)\n",
    "while gameover<3:\n",
    "    d=input(\"ВВЕДИТЕ БУКВУ:\") \n",
    "    if len(d)!=1:\n",
    "        print(\"ВВЕДИТЕ ТОЛЬКО ОДНУ БУКВУ\")\n",
    "    elif d in letters2:\n",
    "        print(\"ВЫ УЖЕ ВВОДИЛИ ЭТУ БУКВУ\")\n",
    "    elif d.isdigit():\n",
    "        print(\"НЕЛЬЗЯ ВВОДИТЬ ЧИСЛА\")\n",
    "    elif d not in letters2:\n",
    "        letters2.add(d)\n",
    "        if wordletters <= letters2:\n",
    "            print(\"ВЫ УГАДАЛИ СЛОВО\", word)\n",
    "            break\n",
    "        else: \n",
    "            if d in wordletters:\n",
    "                print(\"ВЫ УГАДАЛИ БУКВУ\")\n",
    "                indexes = [index for index, v in enumerate(word) if v == d]\n",
    "                for index in indexes: \n",
    "                    ch1[index]=d\n",
    "                print(ch1)\n",
    "            else:\n",
    "                gameover+=1\n",
    "                if gameover==1:\n",
    "                    print(\"\"\"                              O \n",
    "                             /|\\\\ \n",
    "                             / \\\\\"\"\")\n",
    "                elif gameover==2:\n",
    "                    print(\"\"\"                               \\|\n",
    "                             O  |\n",
    "                            /|\\\\ |\n",
    "                            / \\\\ |\"\"\")\n",
    "                elif gameover==3:\n",
    "                    print(\"\"\"                              _______ \n",
    "                              |    \\|\n",
    "                              O     |\n",
    "                             /|\\\\    |\n",
    "                             / \\\\    |\"\"\")\n",
    "else:\n",
    "    print(\"ВЫ ПРОИГРАЛИ\")"
   ]
  },
  {
   "cell_type": "code",
   "execution_count": null,
   "metadata": {},
   "outputs": [],
   "source": []
  }
 ],
 "metadata": {
  "kernelspec": {
   "display_name": "Python 3",
   "language": "python",
   "name": "python3"
  },
  "language_info": {
   "codemirror_mode": {
    "name": "ipython",
    "version": 3
   },
   "file_extension": ".py",
   "mimetype": "text/x-python",
   "name": "python",
   "nbconvert_exporter": "python",
   "pygments_lexer": "ipython3",
   "version": "3.6.4"
  }
 },
 "nbformat": 4,
 "nbformat_minor": 2
}
